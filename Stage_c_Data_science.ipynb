{
  "nbformat": 4,
  "nbformat_minor": 0,
  "metadata": {
    "kernelspec": {
      "display_name": "Python 3",
      "language": "python",
      "name": "python3"
    },
    "language_info": {
      "codemirror_mode": {
        "name": "ipython",
        "version": 3
      },
      "file_extension": ".py",
      "mimetype": "text/x-python",
      "name": "python",
      "nbconvert_exporter": "python",
      "pygments_lexer": "ipython3",
      "version": "3.6.5"
    },
    "colab": {
      "name": "Stage c Data science.ipynb",
      "provenance": [],
      "collapsed_sections": [],
      "include_colab_link": true
    }
  },
  "cells": [
    {
      "cell_type": "markdown",
      "metadata": {
        "id": "view-in-github",
        "colab_type": "text"
      },
      "source": [
        "<a href=\"https://colab.research.google.com/github/OluwajobaOluwabori/IntrotoPython/blob/master/Stage_c_Data_science.ipynb\" target=\"_parent\"><img src=\"https://colab.research.google.com/assets/colab-badge.svg\" alt=\"Open In Colab\"/></a>"
      ]
    },
    {
      "cell_type": "code",
      "metadata": {
        "id": "79hI-6_vMz7e",
        "colab_type": "code",
        "colab": {
          "base_uri": "https://localhost:8080/",
          "height": 102
        },
        "outputId": "a0dc344b-0d09-4321-8b59-d12a0ec762bf"
      },
      "source": [
        " !pip install lightgbm"
      ],
      "execution_count": null,
      "outputs": [
        {
          "output_type": "stream",
          "text": [
            "Requirement already satisfied: lightgbm in /usr/local/lib/python3.6/dist-packages (2.2.3)\n",
            "Requirement already satisfied: numpy in /usr/local/lib/python3.6/dist-packages (from lightgbm) (1.18.5)\n",
            "Requirement already satisfied: scikit-learn in /usr/local/lib/python3.6/dist-packages (from lightgbm) (0.22.2.post1)\n",
            "Requirement already satisfied: scipy in /usr/local/lib/python3.6/dist-packages (from lightgbm) (1.4.1)\n",
            "Requirement already satisfied: joblib>=0.11 in /usr/local/lib/python3.6/dist-packages (from scikit-learn->lightgbm) (0.16.0)\n"
          ],
          "name": "stdout"
        }
      ]
    },
    {
      "cell_type": "code",
      "metadata": {
        "id": "X2lwuBUQMz7F",
        "colab_type": "code",
        "colab": {
          "base_uri": "https://localhost:8080/",
          "height": 68
        },
        "outputId": "bb061116-a201-4e00-d3e5-1ff82e8a8dfb"
      },
      "source": [
        "!pip install xgboost==0.90"
      ],
      "execution_count": null,
      "outputs": [
        {
          "output_type": "stream",
          "text": [
            "Requirement already satisfied: xgboost==0.90 in /usr/local/lib/python3.6/dist-packages (0.90)\n",
            "Requirement already satisfied: scipy in /usr/local/lib/python3.6/dist-packages (from xgboost==0.90) (1.4.1)\n",
            "Requirement already satisfied: numpy in /usr/local/lib/python3.6/dist-packages (from xgboost==0.90) (1.18.5)\n"
          ],
          "name": "stdout"
        }
      ]
    },
    {
      "cell_type": "code",
      "metadata": {
        "id": "XoNABRj0Mz1i",
        "colab_type": "code",
        "colab": {}
      },
      "source": [
        "import pandas as pd\n",
        "import numpy as np\n",
        "df=pd.read_csv('https://archive.ics.uci.edu/ml/machine-learning-databases/00471/Data_for_UCI_named.csv')\n",
        "df.to_csv('Data_for_UCI_named.csv')"
      ],
      "execution_count": null,
      "outputs": []
    },
    {
      "cell_type": "code",
      "metadata": {
        "id": "JUllIHXPMz2S",
        "colab_type": "code",
        "colab": {}
      },
      "source": [
        "#pre-processing the dataset\n",
        "df=df.drop(columns=['stab'])  "
      ],
      "execution_count": null,
      "outputs": []
    },
    {
      "cell_type": "code",
      "metadata": {
        "id": "4pz3nzm7Mz2j",
        "colab_type": "code",
        "colab": {
          "base_uri": "https://localhost:8080/",
          "height": 255
        },
        "outputId": "05cccf43-33e2-4980-f69f-3d63ddd76425"
      },
      "source": [
        "x=df.iloc[:,0:12]\n",
        "y=df.iloc[:,12]\n",
        "print(x.head(5))\n",
        "print(y.head(5))"
      ],
      "execution_count": null,
      "outputs": [
        {
          "output_type": "stream",
          "text": [
            "       tau1      tau2      tau3  ...        g2        g3        g4\n",
            "0  2.959060  3.079885  8.381025  ...  0.859578  0.887445  0.958034\n",
            "1  9.304097  4.902524  3.047541  ...  0.862414  0.562139  0.781760\n",
            "2  8.971707  8.848428  3.046479  ...  0.766689  0.839444  0.109853\n",
            "3  0.716415  7.669600  4.486641  ...  0.976744  0.929381  0.362718\n",
            "4  3.134112  7.608772  4.943759  ...  0.455450  0.656947  0.820923\n",
            "\n",
            "[5 rows x 12 columns]\n",
            "0    unstable\n",
            "1      stable\n",
            "2    unstable\n",
            "3    unstable\n",
            "4    unstable\n",
            "Name: stabf, dtype: object\n"
          ],
          "name": "stdout"
        }
      ]
    },
    {
      "cell_type": "code",
      "metadata": {
        "id": "pHCMqlCrMz23",
        "colab_type": "code",
        "colab": {
          "base_uri": "https://localhost:8080/",
          "height": 68
        },
        "outputId": "7a521421-cc4e-43bf-d122-7aca26eb4370"
      },
      "source": [
        "#split the data into training and testing sets\n",
        "from sklearn.model_selection import train_test_split\n",
        "x_train, x_test, y_train, y_test = train_test_split(x, y, test_size=0.2, random_state=1)\n",
        "y_train.value_counts()\n"
      ],
      "execution_count": null,
      "outputs": [
        {
          "output_type": "execute_result",
          "data": {
            "text/plain": [
              "unstable    5092\n",
              "stable      2908\n",
              "Name: stabf, dtype: int64"
            ]
          },
          "metadata": {
            "tags": []
          },
          "execution_count": 11
        }
      ]
    },
    {
      "cell_type": "code",
      "metadata": {
        "id": "jdxybBlBMz3g",
        "colab_type": "code",
        "colab": {
          "base_uri": "https://localhost:8080/",
          "height": 419
        },
        "outputId": "c7c9fecf-e35c-43b9-a607-2a48b0959785"
      },
      "source": [
        "#feature scaling\n",
        "from sklearn.preprocessing import StandardScaler\n",
        "scaler= StandardScaler()\n",
        "normalised_train_df= scaler.fit_transform(x_train)\n",
        "normalised_test_df= scaler.transform(x_test)\n",
        "normalised_train_df=pd.DataFrame(normalised_train_df, columns= x_train.columns)\n",
        "normalised_test_df=pd.DataFrame(normalised_test_df,columns= x_test.columns)\n",
        "normalised_test_df"
      ],
      "execution_count": null,
      "outputs": [
        {
          "output_type": "execute_result",
          "data": {
            "text/html": [
              "<div>\n",
              "<style scoped>\n",
              "    .dataframe tbody tr th:only-of-type {\n",
              "        vertical-align: middle;\n",
              "    }\n",
              "\n",
              "    .dataframe tbody tr th {\n",
              "        vertical-align: top;\n",
              "    }\n",
              "\n",
              "    .dataframe thead th {\n",
              "        text-align: right;\n",
              "    }\n",
              "</style>\n",
              "<table border=\"1\" class=\"dataframe\">\n",
              "  <thead>\n",
              "    <tr style=\"text-align: right;\">\n",
              "      <th></th>\n",
              "      <th>tau1</th>\n",
              "      <th>tau2</th>\n",
              "      <th>tau3</th>\n",
              "      <th>tau4</th>\n",
              "      <th>p1</th>\n",
              "      <th>p2</th>\n",
              "      <th>p3</th>\n",
              "      <th>p4</th>\n",
              "      <th>g1</th>\n",
              "      <th>g2</th>\n",
              "      <th>g3</th>\n",
              "      <th>g4</th>\n",
              "    </tr>\n",
              "  </thead>\n",
              "  <tbody>\n",
              "    <tr>\n",
              "      <th>0</th>\n",
              "      <td>0.593951</td>\n",
              "      <td>-0.412733</td>\n",
              "      <td>1.503924</td>\n",
              "      <td>1.116943</td>\n",
              "      <td>0.403423</td>\n",
              "      <td>-1.492971</td>\n",
              "      <td>-0.785033</td>\n",
              "      <td>1.566781</td>\n",
              "      <td>-0.901007</td>\n",
              "      <td>1.167203</td>\n",
              "      <td>-1.507330</td>\n",
              "      <td>1.084726</td>\n",
              "    </tr>\n",
              "    <tr>\n",
              "      <th>1</th>\n",
              "      <td>0.202190</td>\n",
              "      <td>0.374416</td>\n",
              "      <td>-0.188800</td>\n",
              "      <td>-0.522268</td>\n",
              "      <td>-0.225967</td>\n",
              "      <td>-1.058483</td>\n",
              "      <td>0.420047</td>\n",
              "      <td>1.028627</td>\n",
              "      <td>-1.625721</td>\n",
              "      <td>-0.395660</td>\n",
              "      <td>1.414651</td>\n",
              "      <td>1.226011</td>\n",
              "    </tr>\n",
              "    <tr>\n",
              "      <th>2</th>\n",
              "      <td>-1.079044</td>\n",
              "      <td>-0.313745</td>\n",
              "      <td>-0.884634</td>\n",
              "      <td>0.017080</td>\n",
              "      <td>-0.943122</td>\n",
              "      <td>0.112653</td>\n",
              "      <td>0.801335</td>\n",
              "      <td>0.733004</td>\n",
              "      <td>1.457108</td>\n",
              "      <td>-1.438495</td>\n",
              "      <td>0.651821</td>\n",
              "      <td>-1.682168</td>\n",
              "    </tr>\n",
              "    <tr>\n",
              "      <th>3</th>\n",
              "      <td>-0.083120</td>\n",
              "      <td>-1.107327</td>\n",
              "      <td>0.372805</td>\n",
              "      <td>-1.708152</td>\n",
              "      <td>0.753990</td>\n",
              "      <td>-1.637972</td>\n",
              "      <td>0.403805</td>\n",
              "      <td>-0.088036</td>\n",
              "      <td>0.083322</td>\n",
              "      <td>-1.672322</td>\n",
              "      <td>-0.357714</td>\n",
              "      <td>1.055865</td>\n",
              "    </tr>\n",
              "    <tr>\n",
              "      <th>4</th>\n",
              "      <td>0.873921</td>\n",
              "      <td>1.438466</td>\n",
              "      <td>0.086662</td>\n",
              "      <td>1.715037</td>\n",
              "      <td>-0.153880</td>\n",
              "      <td>-0.007015</td>\n",
              "      <td>-0.197053</td>\n",
              "      <td>0.472315</td>\n",
              "      <td>0.136549</td>\n",
              "      <td>-1.469731</td>\n",
              "      <td>0.956396</td>\n",
              "      <td>-0.819727</td>\n",
              "    </tr>\n",
              "    <tr>\n",
              "      <th>...</th>\n",
              "      <td>...</td>\n",
              "      <td>...</td>\n",
              "      <td>...</td>\n",
              "      <td>...</td>\n",
              "      <td>...</td>\n",
              "      <td>...</td>\n",
              "      <td>...</td>\n",
              "      <td>...</td>\n",
              "      <td>...</td>\n",
              "      <td>...</td>\n",
              "      <td>...</td>\n",
              "      <td>...</td>\n",
              "    </tr>\n",
              "    <tr>\n",
              "      <th>1995</th>\n",
              "      <td>1.119679</td>\n",
              "      <td>-0.675220</td>\n",
              "      <td>-1.382912</td>\n",
              "      <td>1.287865</td>\n",
              "      <td>0.249565</td>\n",
              "      <td>-0.803325</td>\n",
              "      <td>0.734497</td>\n",
              "      <td>-0.369263</td>\n",
              "      <td>0.485786</td>\n",
              "      <td>-0.115528</td>\n",
              "      <td>-1.264683</td>\n",
              "      <td>-1.283117</td>\n",
              "    </tr>\n",
              "    <tr>\n",
              "      <th>1996</th>\n",
              "      <td>-1.077913</td>\n",
              "      <td>-0.808691</td>\n",
              "      <td>1.033449</td>\n",
              "      <td>0.337636</td>\n",
              "      <td>-0.166587</td>\n",
              "      <td>0.340913</td>\n",
              "      <td>0.988085</td>\n",
              "      <td>-1.035753</td>\n",
              "      <td>0.952386</td>\n",
              "      <td>0.892766</td>\n",
              "      <td>-1.062502</td>\n",
              "      <td>-1.094114</td>\n",
              "    </tr>\n",
              "    <tr>\n",
              "      <th>1997</th>\n",
              "      <td>0.947825</td>\n",
              "      <td>-1.663727</td>\n",
              "      <td>-1.653920</td>\n",
              "      <td>0.532665</td>\n",
              "      <td>-1.518329</td>\n",
              "      <td>1.590144</td>\n",
              "      <td>0.091613</td>\n",
              "      <td>0.974455</td>\n",
              "      <td>-1.233963</td>\n",
              "      <td>0.126391</td>\n",
              "      <td>0.573445</td>\n",
              "      <td>1.319350</td>\n",
              "    </tr>\n",
              "    <tr>\n",
              "      <th>1998</th>\n",
              "      <td>-1.120235</td>\n",
              "      <td>0.193979</td>\n",
              "      <td>-0.237805</td>\n",
              "      <td>0.421570</td>\n",
              "      <td>-1.162671</td>\n",
              "      <td>0.738702</td>\n",
              "      <td>0.027367</td>\n",
              "      <td>1.265833</td>\n",
              "      <td>1.524336</td>\n",
              "      <td>0.794087</td>\n",
              "      <td>-1.362323</td>\n",
              "      <td>-0.801971</td>\n",
              "    </tr>\n",
              "    <tr>\n",
              "      <th>1999</th>\n",
              "      <td>-1.377640</td>\n",
              "      <td>1.511867</td>\n",
              "      <td>0.282651</td>\n",
              "      <td>1.510837</td>\n",
              "      <td>0.648241</td>\n",
              "      <td>-1.486786</td>\n",
              "      <td>-0.781586</td>\n",
              "      <td>1.130007</td>\n",
              "      <td>0.493337</td>\n",
              "      <td>-0.917497</td>\n",
              "      <td>0.002950</td>\n",
              "      <td>1.189023</td>\n",
              "    </tr>\n",
              "  </tbody>\n",
              "</table>\n",
              "<p>2000 rows × 12 columns</p>\n",
              "</div>"
            ],
            "text/plain": [
              "          tau1      tau2      tau3  ...        g2        g3        g4\n",
              "0     0.593951 -0.412733  1.503924  ...  1.167203 -1.507330  1.084726\n",
              "1     0.202190  0.374416 -0.188800  ... -0.395660  1.414651  1.226011\n",
              "2    -1.079044 -0.313745 -0.884634  ... -1.438495  0.651821 -1.682168\n",
              "3    -0.083120 -1.107327  0.372805  ... -1.672322 -0.357714  1.055865\n",
              "4     0.873921  1.438466  0.086662  ... -1.469731  0.956396 -0.819727\n",
              "...        ...       ...       ...  ...       ...       ...       ...\n",
              "1995  1.119679 -0.675220 -1.382912  ... -0.115528 -1.264683 -1.283117\n",
              "1996 -1.077913 -0.808691  1.033449  ...  0.892766 -1.062502 -1.094114\n",
              "1997  0.947825 -1.663727 -1.653920  ...  0.126391  0.573445  1.319350\n",
              "1998 -1.120235  0.193979 -0.237805  ...  0.794087 -1.362323 -0.801971\n",
              "1999 -1.377640  1.511867  0.282651  ... -0.917497  0.002950  1.189023\n",
              "\n",
              "[2000 rows x 12 columns]"
            ]
          },
          "metadata": {
            "tags": []
          },
          "execution_count": 12
        }
      ]
    },
    {
      "cell_type": "code",
      "metadata": {
        "id": "023ep5y-Mz31",
        "colab_type": "code",
        "colab": {
          "base_uri": "https://localhost:8080/",
          "height": 153
        },
        "outputId": "39226495-374b-47b9-e681-4679c45a9dc0"
      },
      "source": [
        "#ensemble methods\n",
        "from sklearn.ensemble import RandomForestClassifier\n",
        "from sklearn.tree import DecisionTreeClassifier\n",
        "model= RandomForestClassifier()\n",
        "model.fit(normalised_train_df, y_train)\n",
        "\n",
        "\n"
      ],
      "execution_count": null,
      "outputs": [
        {
          "output_type": "execute_result",
          "data": {
            "text/plain": [
              "RandomForestClassifier(bootstrap=True, ccp_alpha=0.0, class_weight=None,\n",
              "                       criterion='gini', max_depth=None, max_features='auto',\n",
              "                       max_leaf_nodes=None, max_samples=None,\n",
              "                       min_impurity_decrease=0.0, min_impurity_split=None,\n",
              "                       min_samples_leaf=1, min_samples_split=2,\n",
              "                       min_weight_fraction_leaf=0.0, n_estimators=100,\n",
              "                       n_jobs=None, oob_score=False, random_state=None,\n",
              "                       verbose=0, warm_start=False)"
            ]
          },
          "metadata": {
            "tags": []
          },
          "execution_count": 13
        }
      ]
    },
    {
      "cell_type": "code",
      "metadata": {
        "id": "7OSYQtzUMz4D",
        "colab_type": "code",
        "colab": {
          "base_uri": "https://localhost:8080/",
          "height": 34
        },
        "outputId": "d54cc7a4-2b36-413f-92f6-fc80b94c814c"
      },
      "source": [
        "#checking the accuracy of the model\n",
        "model.score(normalised_test_df,y_test)"
      ],
      "execution_count": null,
      "outputs": [
        {
          "output_type": "execute_result",
          "data": {
            "text/plain": [
              "0.9215"
            ]
          },
          "metadata": {
            "tags": []
          },
          "execution_count": 14
        }
      ]
    },
    {
      "cell_type": "code",
      "metadata": {
        "id": "kgkmJO78Mz4Z",
        "colab_type": "code",
        "colab": {
          "base_uri": "https://localhost:8080/",
          "height": 68
        },
        "outputId": "3dab7a59-b549-4f19-ec41-4dfee5cc422c"
      },
      "source": [
        "model.feature_importances_"
      ],
      "execution_count": null,
      "outputs": [
        {
          "output_type": "execute_result",
          "data": {
            "text/plain": [
              "array([0.12338225, 0.12846204, 0.1219021 , 0.12181007, 0.02931041,\n",
              "       0.02893671, 0.03035908, 0.0300077 , 0.09303538, 0.09574613,\n",
              "       0.09925367, 0.09779445])"
            ]
          },
          "metadata": {
            "tags": []
          },
          "execution_count": 15
        }
      ]
    },
    {
      "cell_type": "code",
      "metadata": {
        "id": "ftNVGN2eMz5H",
        "colab_type": "code",
        "colab": {
          "base_uri": "https://localhost:8080/",
          "height": 34
        },
        "outputId": "77f743a5-d250-44b6-f43d-ff29a28bf6aa"
      },
      "source": [
        "#another ensemble method(ExtraTreesClassifier)\n",
        "from sklearn.ensemble import ExtraTreesClassifier\n",
        "extra_model=ExtraTreesClassifier(n_estimators = 100,min_samples_split =2,min_samples_leaf = 1)\n",
        "extra_model.fit(normalised_train_df,y_train)\n",
        "extra_model.score(normalised_test_df,y_test)"
      ],
      "execution_count": null,
      "outputs": [
        {
          "output_type": "execute_result",
          "data": {
            "text/plain": [
              "0.9185"
            ]
          },
          "metadata": {
            "tags": []
          },
          "execution_count": 16
        }
      ]
    },
    {
      "cell_type": "code",
      "metadata": {
        "id": "FJQwoqegMz5Q",
        "colab_type": "code",
        "colab": {
          "base_uri": "https://localhost:8080/",
          "height": 289
        },
        "outputId": "219b1811-1f19-4c07-e354-943b2dda212d"
      },
      "source": [
        "#Boosting technique\n",
        "from sklearn.ensemble import AdaBoostClassifier\n",
        "ada_clf = AdaBoostClassifier(\n",
        " DecisionTreeClassifier(max_depth=1), n_estimators=50,\n",
        " algorithm=\"SAMME.R\", learning_rate=0.5\n",
        " )\n",
        "ada_clf.fit(normalised_train_df, y_train)"
      ],
      "execution_count": null,
      "outputs": [
        {
          "output_type": "execute_result",
          "data": {
            "text/plain": [
              "AdaBoostClassifier(algorithm='SAMME.R',\n",
              "                   base_estimator=DecisionTreeClassifier(ccp_alpha=0.0,\n",
              "                                                         class_weight=None,\n",
              "                                                         criterion='gini',\n",
              "                                                         max_depth=1,\n",
              "                                                         max_features=None,\n",
              "                                                         max_leaf_nodes=None,\n",
              "                                                         min_impurity_decrease=0.0,\n",
              "                                                         min_impurity_split=None,\n",
              "                                                         min_samples_leaf=1,\n",
              "                                                         min_samples_split=2,\n",
              "                                                         min_weight_fraction_leaf=0.0,\n",
              "                                                         presort='deprecated',\n",
              "                                                         random_state=None,\n",
              "                                                         splitter='best'),\n",
              "                   learning_rate=0.5, n_estimators=50, random_state=None)"
            ]
          },
          "metadata": {
            "tags": []
          },
          "execution_count": 17
        }
      ]
    },
    {
      "cell_type": "code",
      "metadata": {
        "id": "knXREe0uMz5d",
        "colab_type": "code",
        "colab": {
          "base_uri": "https://localhost:8080/",
          "height": 34
        },
        "outputId": "d94f4d34-e021-4dec-be76-a42a24119ed0"
      },
      "source": [
        "ada_clf.score(normalised_test_df,y_test)"
      ],
      "execution_count": null,
      "outputs": [
        {
          "output_type": "execute_result",
          "data": {
            "text/plain": [
              "0.837"
            ]
          },
          "metadata": {
            "tags": []
          },
          "execution_count": 18
        }
      ]
    },
    {
      "cell_type": "code",
      "metadata": {
        "id": "nC7rbrTTMz6i",
        "colab_type": "code",
        "colab": {}
      },
      "source": [
        "#Boosting technique 2\n",
        "from sklearn.ensemble import GradientBoostingRegressor\n",
        "gbrt = GradientBoostingRegressor(max_depth=2, n_estimators=3, learning_rate=1.0)\n"
      ],
      "execution_count": null,
      "outputs": []
    },
    {
      "cell_type": "code",
      "metadata": {
        "id": "_nYo716gMz7S",
        "colab_type": "code",
        "colab": {
          "base_uri": "https://localhost:8080/",
          "height": 136
        },
        "outputId": "416f2b29-364f-46e8-ea8a-2a8653e893c3"
      },
      "source": [
        "#Boosting technique 3\n",
        "from xgboost import XGBClassifier\n",
        "xgb= XGBClassifier(random_state=1)\n",
        "xgb.fit(normalised_train_df,y_train)\n"
      ],
      "execution_count": null,
      "outputs": [
        {
          "output_type": "execute_result",
          "data": {
            "text/plain": [
              "XGBClassifier(base_score=0.5, booster='gbtree', colsample_bylevel=1,\n",
              "              colsample_bynode=1, colsample_bytree=1, gamma=0,\n",
              "              learning_rate=0.1, max_delta_step=0, max_depth=3,\n",
              "              min_child_weight=1, missing=None, n_estimators=100, n_jobs=1,\n",
              "              nthread=None, objective='binary:logistic', random_state=1,\n",
              "              reg_alpha=0, reg_lambda=1, scale_pos_weight=1, seed=None,\n",
              "              silent=None, subsample=1, verbosity=1)"
            ]
          },
          "metadata": {
            "tags": []
          },
          "execution_count": 21
        }
      ]
    },
    {
      "cell_type": "code",
      "metadata": {
        "id": "YB9bH_RPYDSd",
        "colab_type": "code",
        "colab": {
          "base_uri": "https://localhost:8080/",
          "height": 34
        },
        "outputId": "0a1b952f-40f1-4ffb-e524-dfd028c37a2f"
      },
      "source": [
        "xgb.score(normalised_test_df,y_test)"
      ],
      "execution_count": null,
      "outputs": [
        {
          "output_type": "execute_result",
          "data": {
            "text/plain": [
              "0.9195"
            ]
          },
          "metadata": {
            "tags": []
          },
          "execution_count": 22
        }
      ]
    },
    {
      "cell_type": "code",
      "metadata": {
        "id": "ZcspEedZZ-cn",
        "colab_type": "code",
        "colab": {
          "base_uri": "https://localhost:8080/",
          "height": 119
        },
        "outputId": "a0e414e1-0266-4804-dfea-0360c9408f6f"
      },
      "source": [
        "from lightgbm import LGBMClassifier\n",
        "lgbm=LGBMClassifier(random_state=1)\n",
        "lgbm.fit(normalised_train_df,y_train)"
      ],
      "execution_count": null,
      "outputs": [
        {
          "output_type": "execute_result",
          "data": {
            "text/plain": [
              "LGBMClassifier(boosting_type='gbdt', class_weight=None, colsample_bytree=1.0,\n",
              "               importance_type='split', learning_rate=0.1, max_depth=-1,\n",
              "               min_child_samples=20, min_child_weight=0.001, min_split_gain=0.0,\n",
              "               n_estimators=100, n_jobs=-1, num_leaves=31, objective=None,\n",
              "               random_state=1, reg_alpha=0.0, reg_lambda=0.0, silent=True,\n",
              "               subsample=1.0, subsample_for_bin=200000, subsample_freq=0)"
            ]
          },
          "metadata": {
            "tags": []
          },
          "execution_count": 20
        }
      ]
    },
    {
      "cell_type": "code",
      "metadata": {
        "id": "nQ9QCZJ4a-Dz",
        "colab_type": "code",
        "colab": {
          "base_uri": "https://localhost:8080/",
          "height": 119
        },
        "outputId": "9d630937-f1cf-4973-918c-e95c26257473"
      },
      "source": [
        "lgbm.fit(normalised_train_df, y_train)"
      ],
      "execution_count": null,
      "outputs": [
        {
          "output_type": "execute_result",
          "data": {
            "text/plain": [
              "LGBMClassifier(boosting_type='gbdt', class_weight=None, colsample_bytree=1.0,\n",
              "               importance_type='split', learning_rate=0.1, max_depth=-1,\n",
              "               min_child_samples=20, min_child_weight=0.001, min_split_gain=0.0,\n",
              "               n_estimators=100, n_jobs=-1, num_leaves=31, objective=None,\n",
              "               random_state=1, reg_alpha=0.0, reg_lambda=0.0, silent=True,\n",
              "               subsample=1.0, subsample_for_bin=200000, subsample_freq=0)"
            ]
          },
          "metadata": {
            "tags": []
          },
          "execution_count": 23
        }
      ]
    },
    {
      "cell_type": "code",
      "metadata": {
        "id": "X0M-9s-jbKRp",
        "colab_type": "code",
        "colab": {
          "base_uri": "https://localhost:8080/",
          "height": 34
        },
        "outputId": "4d1bad45-5973-48a3-de49-7463cee10159"
      },
      "source": [
        "lgbm.score(normalised_test_df,y_test)"
      ],
      "execution_count": null,
      "outputs": [
        {
          "output_type": "execute_result",
          "data": {
            "text/plain": [
              "0.9375"
            ]
          },
          "metadata": {
            "tags": []
          },
          "execution_count": 24
        }
      ]
    },
    {
      "cell_type": "code",
      "metadata": {
        "id": "426AjlcQMz86",
        "colab_type": "code",
        "colab": {
          "base_uri": "https://localhost:8080/",
          "height": 221
        },
        "outputId": "692200ce-c20f-442c-cecb-b5db178365fd"
      },
      "source": [
        "#improving extra trees using randomized hyperparameter\n",
        "from sklearn.model_selection import RandomizedSearchCV\n",
        "\n",
        "n_estimators = [50, 100, 300, 500, 1000]\n",
        "min_samples_split = [2, 3, 5, 7, 9]\n",
        "min_samples_leaf = [1, 2, 4, 6, 8]\n",
        "max_features = ['auto', 'sqrt', 'log2', None] \n",
        "hyperparameter_grid = {'n_estimators': n_estimators,\n",
        "\n",
        "                       'min_samples_leaf': min_samples_leaf,\n",
        "\n",
        "                       'min_samples_split': min_samples_split,\n",
        "\n",
        "                       'max_features': max_features}\n",
        "\n",
        "random_model=RandomizedSearchCV(ExtraTreesClassifier(random_state=1), hyperparameter_grid,cv=5,n_iter=10, scoring = 'accuracy', n_jobs = -1, verbose = 1)\n",
        "random_model.fit(normalised_train_df, y_train)\n",
        "#To check the best estimator for the model\n",
        "random_model.best_estimator_\n"
      ],
      "execution_count": null,
      "outputs": [
        {
          "output_type": "stream",
          "text": [
            "Fitting 5 folds for each of 10 candidates, totalling 50 fits\n"
          ],
          "name": "stdout"
        },
        {
          "output_type": "stream",
          "text": [
            "[Parallel(n_jobs=-1)]: Using backend LokyBackend with 2 concurrent workers.\n",
            "[Parallel(n_jobs=-1)]: Done  46 tasks      | elapsed:  1.3min\n",
            "[Parallel(n_jobs=-1)]: Done  50 out of  50 | elapsed:  1.4min finished\n"
          ],
          "name": "stderr"
        },
        {
          "output_type": "execute_result",
          "data": {
            "text/plain": [
              "ExtraTreesClassifier(bootstrap=False, ccp_alpha=0.0, class_weight=None,\n",
              "                     criterion='gini', max_depth=None, max_features=None,\n",
              "                     max_leaf_nodes=None, max_samples=None,\n",
              "                     min_impurity_decrease=0.0, min_impurity_split=None,\n",
              "                     min_samples_leaf=4, min_samples_split=5,\n",
              "                     min_weight_fraction_leaf=0.0, n_estimators=100,\n",
              "                     n_jobs=None, oob_score=False, random_state=1, verbose=0,\n",
              "                     warm_start=False)"
            ]
          },
          "metadata": {
            "tags": []
          },
          "execution_count": 55
        }
      ]
    },
    {
      "cell_type": "code",
      "metadata": {
        "id": "UZSpWrUrFyx4",
        "colab_type": "code",
        "colab": {
          "base_uri": "https://localhost:8080/",
          "height": 85
        },
        "outputId": "b93ba079-26cd-4a11-ad61-22840cbf628d"
      },
      "source": [
        "#checking the best parameters for the model\n",
        "random_model.best_params_"
      ],
      "execution_count": null,
      "outputs": [
        {
          "output_type": "execute_result",
          "data": {
            "text/plain": [
              "{'max_features': None,\n",
              " 'min_samples_leaf': 4,\n",
              " 'min_samples_split': 5,\n",
              " 'n_estimators': 100}"
            ]
          },
          "metadata": {
            "tags": []
          },
          "execution_count": 56
        }
      ]
    },
    {
      "cell_type": "code",
      "metadata": {
        "id": "y44EkT64Mz9P",
        "colab_type": "code",
        "colab": {
          "base_uri": "https://localhost:8080/",
          "height": 34
        },
        "outputId": "d5bf18ba-8216-4940-badf-5675cbca53d7"
      },
      "source": [
        "#checking the accuray of the model\n",
        "random_model.score(normalised_test_df,y_test)"
      ],
      "execution_count": null,
      "outputs": [
        {
          "output_type": "execute_result",
          "data": {
            "text/plain": [
              "0.9295"
            ]
          },
          "metadata": {
            "tags": []
          },
          "execution_count": 57
        }
      ]
    },
    {
      "cell_type": "code",
      "metadata": {
        "id": "_YMoUfkGMz9i",
        "colab_type": "code",
        "colab": {
          "base_uri": "https://localhost:8080/",
          "height": 129
        },
        "outputId": "e03a9962-0f94-4ce6-fda9-eb707bac8ffa"
      },
      "source": [
        "from sklearn.model_selection import GridSearchCV\n",
        "param_grid=('C':[1,10,20], 'kernel': ['rbf', 'linear'])\n",
        "clf =GridSearchCV(svm.SVC(gamma='auto'),param_grid, cv=5,return_train_score= False)\n",
        "clf.fit(normalised_test_df,y_test)\n",
        "grid_search.best_params_\n",
        " grid_search.best_estimator_\n"
      ],
      "execution_count": null,
      "outputs": [
        {
          "output_type": "error",
          "ename": "SyntaxError",
          "evalue": "ignored",
          "traceback": [
            "\u001b[0;36m  File \u001b[0;32m\"<ipython-input-27-a79fc3182d54>\"\u001b[0;36m, line \u001b[0;32m2\u001b[0m\n\u001b[0;31m    param_grid=('C':[1,10,20], 'kernel': ['rbf', 'linear'])\u001b[0m\n\u001b[0m                   ^\u001b[0m\n\u001b[0;31mSyntaxError\u001b[0m\u001b[0;31m:\u001b[0m invalid syntax\n"
          ]
        }
      ]
    },
    {
      "cell_type": "code",
      "metadata": {
        "id": "dUQwqdJZGnRy",
        "colab_type": "code",
        "colab": {}
      },
      "source": [
        "classification_scores=pd.DataFrame()"
      ],
      "execution_count": null,
      "outputs": []
    },
    {
      "cell_type": "code",
      "metadata": {
        "id": "6vmkJm32HhjG",
        "colab_type": "code",
        "colab": {
          "base_uri": "https://localhost:8080/",
          "height": 170
        },
        "outputId": "8fca49e6-3ad6-4973-ca5d-476961f087e3"
      },
      "source": [
        "from sklearn.metrics import classification_report\n",
        "random_predictions=random_model.predict(normalised_test_df)\n",
        "print(classification_report(y_test,random_predictions))"
      ],
      "execution_count": null,
      "outputs": [
        {
          "output_type": "stream",
          "text": [
            "              precision    recall  f1-score   support\n",
            "\n",
            "      stable       0.92      0.87      0.89       712\n",
            "    unstable       0.93      0.96      0.94      1288\n",
            "\n",
            "    accuracy                           0.93      2000\n",
            "   macro avg       0.93      0.91      0.92      2000\n",
            "weighted avg       0.93      0.93      0.93      2000\n",
            "\n"
          ],
          "name": "stdout"
        }
      ]
    },
    {
      "cell_type": "code",
      "metadata": {
        "id": "0xEr0IKkJxkj",
        "colab_type": "code",
        "colab": {
          "base_uri": "https://localhost:8080/",
          "height": 85
        },
        "outputId": "8f299c7c-5214-492c-e745-86793eebc7ee"
      },
      "source": [
        "from sklearn.metrics import recall_score,precision_score,accuracy_score,f1_score\n",
        "precision = precision_score(y_true=y_test, y_pred=random_predictions,pos_label='unstable')\n",
        "print('Precision: {}'.format(round(precision*100), 2))\n",
        " \n",
        "recall = recall_score(y_true=y_test, y_pred=random_predictions,pos_label='unstable')\n",
        "print('Recall: {}'.format(round(recall*100), 2))\n",
        "f1 = f1_score(y_true=y_test, y_pred=random_predictions,pos_label='unstable')\n",
        "print('F1: {}'.format(round(f1*100), 2))\n",
        "\n",
        "accuracy = accuracy_score(y_true=y_test, y_pred=random_predictions)\n",
        "print('Accuracy: {}'.format(round(accuracy*100), 2))"
      ],
      "execution_count": null,
      "outputs": [
        {
          "output_type": "stream",
          "text": [
            "Precision: 93.0\n",
            "Recall: 96.0\n",
            "F1: 94.0\n",
            "Accuracy: 93.0\n"
          ],
          "name": "stdout"
        }
      ]
    },
    {
      "cell_type": "code",
      "metadata": {
        "id": "kwH_7Bt4L8MR",
        "colab_type": "code",
        "colab": {
          "base_uri": "https://localhost:8080/",
          "height": 85
        },
        "outputId": "633b79e5-be1e-4026-a006-e9c9d4c6f6c0"
      },
      "source": [
        "#metrics for RandomForestClassifier\n",
        "model_predictions=model.predict(normalised_test_df)\n",
        "precision = precision_score(y_true=y_test, y_pred=model_predictions,pos_label='unstable')\n",
        "print('Precision: {}'.format(round(precision*100), 3))\n",
        " \n",
        "recall = recall_score(y_true=y_test, y_pred=model_predictions,pos_label='unstable')\n",
        "print('Recall: {}'.format(round(recall*100), 2))\n",
        "f1 = f1_score(y_true=y_test, y_pred=model_predictions,pos_label='unstable')\n",
        "print('F1: {}'.format(round(f1*100), 2))\n",
        "\n",
        "accuracy = accuracy_score(y_true=y_test, y_pred=model_predictions)\n",
        "print('Accuracy: {}'.format(round(accuracy), 4))\n"
      ],
      "execution_count": null,
      "outputs": [
        {
          "output_type": "stream",
          "text": [
            "Precision: 93.0\n",
            "Recall: 95.0\n",
            "F1: 94.0\n",
            "Accuracy: 1.0\n"
          ],
          "name": "stdout"
        }
      ]
    },
    {
      "cell_type": "code",
      "metadata": {
        "id": "gZ7UIzMrae3P",
        "colab_type": "code",
        "colab": {}
      },
      "source": [
        "model_predictions=model.predict(normalised_test_df)"
      ],
      "execution_count": null,
      "outputs": []
    },
    {
      "cell_type": "code",
      "metadata": {
        "id": "gi8fDAgIZ7HO",
        "colab_type": "code",
        "colab": {
          "base_uri": "https://localhost:8080/",
          "height": 34
        },
        "outputId": "6baae4af-51a3-409a-b804-f9394a9c376f"
      },
      "source": [
        "accuracy = accuracy_score(y_true=y_test, y_pred=model_predictions)\n",
        "accuracy"
      ],
      "execution_count": null,
      "outputs": [
        {
          "output_type": "execute_result",
          "data": {
            "text/plain": [
              "0.9215"
            ]
          },
          "metadata": {
            "tags": []
          },
          "execution_count": 51
        }
      ]
    },
    {
      "cell_type": "code",
      "metadata": {
        "id": "yWbq93nzdvfG",
        "colab_type": "code",
        "colab": {
          "base_uri": "https://localhost:8080/",
          "height": 68
        },
        "outputId": "3d3dd7f8-7ee8-4691-b170-03e5f9d1521d"
      },
      "source": [
        "feature_importances = random_model.best_estimator_.feature_importances_\n",
        "feature_importances"
      ],
      "execution_count": null,
      "outputs": [
        {
          "output_type": "execute_result",
          "data": {
            "text/plain": [
              "array([0.1318894 , 0.13632118, 0.13019182, 0.1304315 , 0.00808312,\n",
              "       0.01108608, 0.01055493, 0.01028867, 0.10274984, 0.10845173,\n",
              "       0.11168956, 0.10826219])"
            ]
          },
          "metadata": {
            "tags": []
          },
          "execution_count": 61
        }
      ]
    }
  ]
}